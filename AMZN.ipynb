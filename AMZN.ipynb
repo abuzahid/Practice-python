{
 "cells": [
  {
   "cell_type": "code",
   "execution_count": 39,
   "metadata": {},
   "outputs": [],
   "source": [
    "import pandas as pd"
   ]
  },
  {
   "cell_type": "code",
   "execution_count": 61,
   "metadata": {},
   "outputs": [],
   "source": [
    "#importing data, converting date to date-time format and replacing index with date\n",
    "\n",
    "data= pd.read_csv('AMZN.csv',parse_dates=['Date'], index_col= 'Date')"
   ]
  },
  {
   "cell_type": "code",
   "execution_count": 73,
   "metadata": {},
   "outputs": [
    {
     "data": {
      "text/html": [
       "<div>\n",
       "<style scoped>\n",
       "    .dataframe tbody tr th:only-of-type {\n",
       "        vertical-align: middle;\n",
       "    }\n",
       "\n",
       "    .dataframe tbody tr th {\n",
       "        vertical-align: top;\n",
       "    }\n",
       "\n",
       "    .dataframe thead th {\n",
       "        text-align: right;\n",
       "    }\n",
       "</style>\n",
       "<table border=\"1\" class=\"dataframe\">\n",
       "  <thead>\n",
       "    <tr style=\"text-align: right;\">\n",
       "      <th></th>\n",
       "      <th>Open</th>\n",
       "      <th>High</th>\n",
       "      <th>Low</th>\n",
       "      <th>Close</th>\n",
       "      <th>Adj Close</th>\n",
       "      <th>Volume</th>\n",
       "    </tr>\n",
       "    <tr>\n",
       "      <th>Date</th>\n",
       "      <th></th>\n",
       "      <th></th>\n",
       "      <th></th>\n",
       "      <th></th>\n",
       "      <th></th>\n",
       "      <th></th>\n",
       "    </tr>\n",
       "  </thead>\n",
       "  <tbody>\n",
       "    <tr>\n",
       "      <th>2019-04-12</th>\n",
       "      <td>1848.400024</td>\n",
       "      <td>1851.500000</td>\n",
       "      <td>1841.300049</td>\n",
       "      <td>1843.060059</td>\n",
       "      <td>1843.060059</td>\n",
       "      <td>3114400</td>\n",
       "    </tr>\n",
       "    <tr>\n",
       "      <th>2019-04-15</th>\n",
       "      <td>1842.000000</td>\n",
       "      <td>1846.849976</td>\n",
       "      <td>1818.900024</td>\n",
       "      <td>1844.869995</td>\n",
       "      <td>1844.869995</td>\n",
       "      <td>3724400</td>\n",
       "    </tr>\n",
       "    <tr>\n",
       "      <th>2019-04-16</th>\n",
       "      <td>1851.349976</td>\n",
       "      <td>1869.770020</td>\n",
       "      <td>1848.000000</td>\n",
       "      <td>1863.040039</td>\n",
       "      <td>1863.040039</td>\n",
       "      <td>3044600</td>\n",
       "    </tr>\n",
       "    <tr>\n",
       "      <th>2019-04-17</th>\n",
       "      <td>1872.989990</td>\n",
       "      <td>1876.469971</td>\n",
       "      <td>1860.439941</td>\n",
       "      <td>1864.819946</td>\n",
       "      <td>1864.819946</td>\n",
       "      <td>2893500</td>\n",
       "    </tr>\n",
       "    <tr>\n",
       "      <th>2019-04-18</th>\n",
       "      <td>1868.790039</td>\n",
       "      <td>1870.819946</td>\n",
       "      <td>1859.479980</td>\n",
       "      <td>1861.689941</td>\n",
       "      <td>1861.689941</td>\n",
       "      <td>2749900</td>\n",
       "    </tr>\n",
       "  </tbody>\n",
       "</table>\n",
       "</div>"
      ],
      "text/plain": [
       "                   Open         High          Low        Close    Adj Close  \\\n",
       "Date                                                                          \n",
       "2019-04-12  1848.400024  1851.500000  1841.300049  1843.060059  1843.060059   \n",
       "2019-04-15  1842.000000  1846.849976  1818.900024  1844.869995  1844.869995   \n",
       "2019-04-16  1851.349976  1869.770020  1848.000000  1863.040039  1863.040039   \n",
       "2019-04-17  1872.989990  1876.469971  1860.439941  1864.819946  1864.819946   \n",
       "2019-04-18  1868.790039  1870.819946  1859.479980  1861.689941  1861.689941   \n",
       "\n",
       "             Volume  \n",
       "Date                 \n",
       "2019-04-12  3114400  \n",
       "2019-04-15  3724400  \n",
       "2019-04-16  3044600  \n",
       "2019-04-17  2893500  \n",
       "2019-04-18  2749900  "
      ]
     },
     "execution_count": 73,
     "metadata": {},
     "output_type": "execute_result"
    }
   ],
   "source": [
    "#A short overview of the data\n",
    "data.tail()"
   ]
  },
  {
   "cell_type": "code",
   "execution_count": 74,
   "metadata": {},
   "outputs": [
    {
     "data": {
      "text/plain": [
       "DatetimeIndex(['2018-04-23', '2018-04-24', '2018-04-25', '2018-04-26',\n",
       "               '2018-04-27', '2018-04-30', '2018-05-01', '2018-05-02',\n",
       "               '2018-05-03', '2018-05-04',\n",
       "               ...\n",
       "               '2019-04-05', '2019-04-08', '2019-04-09', '2019-04-10',\n",
       "               '2019-04-11', '2019-04-12', '2019-04-15', '2019-04-16',\n",
       "               '2019-04-17', '2019-04-18'],\n",
       "              dtype='datetime64[ns]', name='Date', length=250, freq=None)"
      ]
     },
     "execution_count": 74,
     "metadata": {},
     "output_type": "execute_result"
    }
   ],
   "source": [
    "#Checking index\n",
    "data.index"
   ]
  },
  {
   "cell_type": "code",
   "execution_count": 75,
   "metadata": {},
   "outputs": [
    {
     "data": {
      "text/html": [
       "<div>\n",
       "<style scoped>\n",
       "    .dataframe tbody tr th:only-of-type {\n",
       "        vertical-align: middle;\n",
       "    }\n",
       "\n",
       "    .dataframe tbody tr th {\n",
       "        vertical-align: top;\n",
       "    }\n",
       "\n",
       "    .dataframe thead th {\n",
       "        text-align: right;\n",
       "    }\n",
       "</style>\n",
       "<table border=\"1\" class=\"dataframe\">\n",
       "  <thead>\n",
       "    <tr style=\"text-align: right;\">\n",
       "      <th></th>\n",
       "      <th>Open</th>\n",
       "      <th>High</th>\n",
       "      <th>Low</th>\n",
       "      <th>Close</th>\n",
       "      <th>Adj Close</th>\n",
       "      <th>Volume</th>\n",
       "    </tr>\n",
       "    <tr>\n",
       "      <th>Date</th>\n",
       "      <th></th>\n",
       "      <th></th>\n",
       "      <th></th>\n",
       "      <th></th>\n",
       "      <th></th>\n",
       "      <th></th>\n",
       "    </tr>\n",
       "  </thead>\n",
       "  <tbody>\n",
       "    <tr>\n",
       "      <th>2019-01-02</th>\n",
       "      <td>1465.199951</td>\n",
       "      <td>1553.359985</td>\n",
       "      <td>1460.930054</td>\n",
       "      <td>1539.130005</td>\n",
       "      <td>1539.130005</td>\n",
       "      <td>7983100</td>\n",
       "    </tr>\n",
       "    <tr>\n",
       "      <th>2019-01-03</th>\n",
       "      <td>1520.010010</td>\n",
       "      <td>1538.000000</td>\n",
       "      <td>1497.109985</td>\n",
       "      <td>1500.280029</td>\n",
       "      <td>1500.280029</td>\n",
       "      <td>6953200</td>\n",
       "    </tr>\n",
       "    <tr>\n",
       "      <th>2019-01-04</th>\n",
       "      <td>1530.000000</td>\n",
       "      <td>1594.000000</td>\n",
       "      <td>1518.310059</td>\n",
       "      <td>1575.390015</td>\n",
       "      <td>1575.390015</td>\n",
       "      <td>9182600</td>\n",
       "    </tr>\n",
       "    <tr>\n",
       "      <th>2019-01-07</th>\n",
       "      <td>1602.310059</td>\n",
       "      <td>1634.560059</td>\n",
       "      <td>1589.189941</td>\n",
       "      <td>1629.510010</td>\n",
       "      <td>1629.510010</td>\n",
       "      <td>7993200</td>\n",
       "    </tr>\n",
       "    <tr>\n",
       "      <th>2019-01-08</th>\n",
       "      <td>1664.689941</td>\n",
       "      <td>1676.609985</td>\n",
       "      <td>1616.609985</td>\n",
       "      <td>1656.579956</td>\n",
       "      <td>1656.579956</td>\n",
       "      <td>8881400</td>\n",
       "    </tr>\n",
       "    <tr>\n",
       "      <th>2019-01-09</th>\n",
       "      <td>1652.979980</td>\n",
       "      <td>1667.800049</td>\n",
       "      <td>1641.400024</td>\n",
       "      <td>1659.420044</td>\n",
       "      <td>1659.420044</td>\n",
       "      <td>6348800</td>\n",
       "    </tr>\n",
       "    <tr>\n",
       "      <th>2019-01-10</th>\n",
       "      <td>1641.010010</td>\n",
       "      <td>1663.250000</td>\n",
       "      <td>1621.619995</td>\n",
       "      <td>1656.219971</td>\n",
       "      <td>1656.219971</td>\n",
       "      <td>6507700</td>\n",
       "    </tr>\n",
       "    <tr>\n",
       "      <th>2019-01-11</th>\n",
       "      <td>1640.550049</td>\n",
       "      <td>1660.290039</td>\n",
       "      <td>1636.219971</td>\n",
       "      <td>1640.560059</td>\n",
       "      <td>1640.560059</td>\n",
       "      <td>4686200</td>\n",
       "    </tr>\n",
       "    <tr>\n",
       "      <th>2019-01-14</th>\n",
       "      <td>1615.000000</td>\n",
       "      <td>1648.199951</td>\n",
       "      <td>1595.150024</td>\n",
       "      <td>1617.209961</td>\n",
       "      <td>1617.209961</td>\n",
       "      <td>6005900</td>\n",
       "    </tr>\n",
       "    <tr>\n",
       "      <th>2019-01-15</th>\n",
       "      <td>1632.000000</td>\n",
       "      <td>1675.160034</td>\n",
       "      <td>1626.010010</td>\n",
       "      <td>1674.560059</td>\n",
       "      <td>1674.560059</td>\n",
       "      <td>5998500</td>\n",
       "    </tr>\n",
       "    <tr>\n",
       "      <th>2019-01-16</th>\n",
       "      <td>1684.219971</td>\n",
       "      <td>1705.000000</td>\n",
       "      <td>1675.880005</td>\n",
       "      <td>1683.780029</td>\n",
       "      <td>1683.780029</td>\n",
       "      <td>6366900</td>\n",
       "    </tr>\n",
       "    <tr>\n",
       "      <th>2019-01-17</th>\n",
       "      <td>1680.000000</td>\n",
       "      <td>1700.170044</td>\n",
       "      <td>1677.500000</td>\n",
       "      <td>1693.219971</td>\n",
       "      <td>1693.219971</td>\n",
       "      <td>4208900</td>\n",
       "    </tr>\n",
       "    <tr>\n",
       "      <th>2019-01-18</th>\n",
       "      <td>1712.000000</td>\n",
       "      <td>1716.199951</td>\n",
       "      <td>1691.540039</td>\n",
       "      <td>1696.199951</td>\n",
       "      <td>1696.199951</td>\n",
       "      <td>6020500</td>\n",
       "    </tr>\n",
       "    <tr>\n",
       "      <th>2019-01-22</th>\n",
       "      <td>1681.000000</td>\n",
       "      <td>1681.869995</td>\n",
       "      <td>1610.199951</td>\n",
       "      <td>1632.170044</td>\n",
       "      <td>1632.170044</td>\n",
       "      <td>6416800</td>\n",
       "    </tr>\n",
       "    <tr>\n",
       "      <th>2019-01-23</th>\n",
       "      <td>1656.000000</td>\n",
       "      <td>1657.430054</td>\n",
       "      <td>1612.000000</td>\n",
       "      <td>1640.020020</td>\n",
       "      <td>1640.020020</td>\n",
       "      <td>5225200</td>\n",
       "    </tr>\n",
       "    <tr>\n",
       "      <th>2019-01-24</th>\n",
       "      <td>1641.069946</td>\n",
       "      <td>1657.260010</td>\n",
       "      <td>1631.780029</td>\n",
       "      <td>1654.930054</td>\n",
       "      <td>1654.930054</td>\n",
       "      <td>4089900</td>\n",
       "    </tr>\n",
       "    <tr>\n",
       "      <th>2019-01-25</th>\n",
       "      <td>1670.500000</td>\n",
       "      <td>1683.479980</td>\n",
       "      <td>1661.609985</td>\n",
       "      <td>1670.569946</td>\n",
       "      <td>1670.569946</td>\n",
       "      <td>4945900</td>\n",
       "    </tr>\n",
       "    <tr>\n",
       "      <th>2019-01-28</th>\n",
       "      <td>1643.589966</td>\n",
       "      <td>1645.000000</td>\n",
       "      <td>1614.089966</td>\n",
       "      <td>1637.890015</td>\n",
       "      <td>1637.890015</td>\n",
       "      <td>4837700</td>\n",
       "    </tr>\n",
       "    <tr>\n",
       "      <th>2019-01-29</th>\n",
       "      <td>1631.270020</td>\n",
       "      <td>1632.380005</td>\n",
       "      <td>1590.719971</td>\n",
       "      <td>1593.880005</td>\n",
       "      <td>1593.880005</td>\n",
       "      <td>4632800</td>\n",
       "    </tr>\n",
       "    <tr>\n",
       "      <th>2019-01-30</th>\n",
       "      <td>1623.000000</td>\n",
       "      <td>1676.949951</td>\n",
       "      <td>1619.680054</td>\n",
       "      <td>1670.430054</td>\n",
       "      <td>1670.430054</td>\n",
       "      <td>5783800</td>\n",
       "    </tr>\n",
       "    <tr>\n",
       "      <th>2019-01-31</th>\n",
       "      <td>1692.849976</td>\n",
       "      <td>1736.410034</td>\n",
       "      <td>1679.079956</td>\n",
       "      <td>1718.729980</td>\n",
       "      <td>1718.729980</td>\n",
       "      <td>10910300</td>\n",
       "    </tr>\n",
       "  </tbody>\n",
       "</table>\n",
       "</div>"
      ],
      "text/plain": [
       "                   Open         High          Low        Close    Adj Close  \\\n",
       "Date                                                                          \n",
       "2019-01-02  1465.199951  1553.359985  1460.930054  1539.130005  1539.130005   \n",
       "2019-01-03  1520.010010  1538.000000  1497.109985  1500.280029  1500.280029   \n",
       "2019-01-04  1530.000000  1594.000000  1518.310059  1575.390015  1575.390015   \n",
       "2019-01-07  1602.310059  1634.560059  1589.189941  1629.510010  1629.510010   \n",
       "2019-01-08  1664.689941  1676.609985  1616.609985  1656.579956  1656.579956   \n",
       "2019-01-09  1652.979980  1667.800049  1641.400024  1659.420044  1659.420044   \n",
       "2019-01-10  1641.010010  1663.250000  1621.619995  1656.219971  1656.219971   \n",
       "2019-01-11  1640.550049  1660.290039  1636.219971  1640.560059  1640.560059   \n",
       "2019-01-14  1615.000000  1648.199951  1595.150024  1617.209961  1617.209961   \n",
       "2019-01-15  1632.000000  1675.160034  1626.010010  1674.560059  1674.560059   \n",
       "2019-01-16  1684.219971  1705.000000  1675.880005  1683.780029  1683.780029   \n",
       "2019-01-17  1680.000000  1700.170044  1677.500000  1693.219971  1693.219971   \n",
       "2019-01-18  1712.000000  1716.199951  1691.540039  1696.199951  1696.199951   \n",
       "2019-01-22  1681.000000  1681.869995  1610.199951  1632.170044  1632.170044   \n",
       "2019-01-23  1656.000000  1657.430054  1612.000000  1640.020020  1640.020020   \n",
       "2019-01-24  1641.069946  1657.260010  1631.780029  1654.930054  1654.930054   \n",
       "2019-01-25  1670.500000  1683.479980  1661.609985  1670.569946  1670.569946   \n",
       "2019-01-28  1643.589966  1645.000000  1614.089966  1637.890015  1637.890015   \n",
       "2019-01-29  1631.270020  1632.380005  1590.719971  1593.880005  1593.880005   \n",
       "2019-01-30  1623.000000  1676.949951  1619.680054  1670.430054  1670.430054   \n",
       "2019-01-31  1692.849976  1736.410034  1679.079956  1718.729980  1718.729980   \n",
       "\n",
       "              Volume  \n",
       "Date                  \n",
       "2019-01-02   7983100  \n",
       "2019-01-03   6953200  \n",
       "2019-01-04   9182600  \n",
       "2019-01-07   7993200  \n",
       "2019-01-08   8881400  \n",
       "2019-01-09   6348800  \n",
       "2019-01-10   6507700  \n",
       "2019-01-11   4686200  \n",
       "2019-01-14   6005900  \n",
       "2019-01-15   5998500  \n",
       "2019-01-16   6366900  \n",
       "2019-01-17   4208900  \n",
       "2019-01-18   6020500  \n",
       "2019-01-22   6416800  \n",
       "2019-01-23   5225200  \n",
       "2019-01-24   4089900  \n",
       "2019-01-25   4945900  \n",
       "2019-01-28   4837700  \n",
       "2019-01-29   4632800  \n",
       "2019-01-30   5783800  \n",
       "2019-01-31  10910300  "
      ]
     },
     "execution_count": 75,
     "metadata": {},
     "output_type": "execute_result"
    }
   ],
   "source": [
    "#Showing all data from Jan-2019\n",
    "data['2019-01']"
   ]
  },
  {
   "cell_type": "code",
   "execution_count": 76,
   "metadata": {},
   "outputs": [
    {
     "data": {
      "text/plain": [
       "1639.405007181818"
      ]
     },
     "execution_count": 76,
     "metadata": {},
     "output_type": "execute_result"
    }
   ],
   "source": [
    "#Checking the mean of closing price of one month of January-2019\n",
    "data['2019-01-01':'2019-02-01'].Close.mean()"
   ]
  },
  {
   "cell_type": "code",
   "execution_count": 77,
   "metadata": {},
   "outputs": [
    {
     "data": {
      "text/plain": [
       "1632.6422674545452"
      ]
     },
     "execution_count": 77,
     "metadata": {},
     "output_type": "execute_result"
    }
   ],
   "source": [
    "#Checking the mean of opening price of one month of January-2019\n",
    "data['2019-01-01':'2019-02-01'].Open.mean()"
   ]
  },
  {
   "cell_type": "code",
   "execution_count": 78,
   "metadata": {},
   "outputs": [
    {
     "data": {
      "text/plain": [
       "Date\n",
       "2018-04-30    1515.804993\n",
       "2018-05-31    1594.903637\n",
       "2018-06-30    1698.823812\n",
       "2018-07-31    1784.649042\n",
       "2018-08-31    1897.851308\n",
       "2018-09-30    1966.077900\n",
       "2018-10-31    1782.058265\n",
       "2018-11-30    1625.483823\n",
       "2018-12-31    1559.443154\n",
       "2019-01-31    1640.032389\n",
       "2019-02-28    1626.937365\n",
       "2019-03-31    1722.491909\n",
       "2019-04-30    1839.970694\n",
       "Freq: M, Name: Close, dtype: float64"
      ]
     },
     "execution_count": 78,
     "metadata": {},
     "output_type": "execute_result"
    }
   ],
   "source": [
    "#Resample the total data monthly wise\n",
    "data.Close.resample('M').mean()"
   ]
  },
  {
   "cell_type": "code",
   "execution_count": 80,
   "metadata": {},
   "outputs": [],
   "source": [
    "#importing matplotlib for plotting data\n",
    "%matplotlib inline"
   ]
  },
  {
   "cell_type": "code",
   "execution_count": 81,
   "metadata": {},
   "outputs": [
    {
     "data": {
      "text/plain": [
       "<matplotlib.axes._subplots.AxesSubplot at 0xdfb76ec400>"
      ]
     },
     "execution_count": 81,
     "metadata": {},
     "output_type": "execute_result"
    },
    {
     "data": {
      "image/png": "[encoded data removed]",
      "text/plain": [
       "<Figure size 432x288 with 1 Axes>"
      ]
     },
     "metadata": {
      "needs_background": "light"
     },
     "output_type": "display_data"
    }
   ],
   "source": [
    "#Plottng resampled data\n",
    "data.Close.resample('M').mean().plot()"
   ]
  },
  {
   "cell_type": "code",
   "execution_count": 82,
   "metadata": {},
   "outputs": [
    {
     "data": {
      "text/plain": [
       "<matplotlib.axes._subplots.AxesSubplot at 0xdfb76ff518>"
      ]
     },
     "execution_count": 82,
     "metadata": {},
     "output_type": "execute_result"
    },
    {
     "data": {
      "image/png": "[encoded data removed]",
      "text/plain": [
       "<Figure size 432x288 with 1 Axes>"
      ]
     },
     "metadata": {
      "needs_background": "light"
     },
     "output_type": "display_data"
    }
   ],
   "source": [
    "#plotting Quartary resampled data\n",
    "data.Close.resample('Q').mean().plot()"
   ]
  },
  {
   "cell_type": "code",
   "execution_count": 83,
   "metadata": {},
   "outputs": [
    {
     "data": {
      "text/plain": [
       "<matplotlib.axes._subplots.AxesSubplot at 0xdfb77b4080>"
      ]
     },
     "execution_count": 83,
     "metadata": {},
     "output_type": "execute_result"
    },
    {
     "data": {
      "image/png": "[encoded data removed]",
      "text/plain": [
       "<Figure size 432x288 with 1 Axes>"
      ]
     },
     "metadata": {
      "needs_background": "light"
     },
     "output_type": "display_data"
    }
   ],
   "source": [
    "#plotting bar chart\n",
    "data.Close.resample('Q').mean().plot(kind='bar')"
   ]
  },
  {
   "cell_type": "code",
   "execution_count": 84,
   "metadata": {},
   "outputs": [
    {
     "data": {
      "text/plain": [
       "<matplotlib.axes._subplots.AxesSubplot at 0xdfb76ff400>"
      ]
     },
     "execution_count": 84,
     "metadata": {},
     "output_type": "execute_result"
    },
    {
     "data": {
      "image/png": "[encoded data removed]",
      "text/plain": [
       "<Figure size 432x288 with 1 Axes>"
      ]
     },
     "metadata": {
      "needs_background": "light"
     },
     "output_type": "display_data"
    }
   ],
   "source": [
    "#plotting daily basis\n",
    "data.Close.plot()"
   ]
  },
  {
   "cell_type": "code",
   "execution_count": null,
   "metadata": {},
   "outputs": [],
   "source": []
  },
  {
   "cell_type": "code",
   "execution_count": null,
   "metadata": {},
   "outputs": [],
   "source": []
  },
  {
   "cell_type": "code",
   "execution_count": null,
   "metadata": {},
   "outputs": [],
   "source": []
  }
 ],
 "metadata": {
  "kernelspec": {
   "display_name": "Python 3",
   "language": "python",
   "name": "python3"
  },
  "language_info": {
   "codemirror_mode": {
    "name": "ipython",
    "version": 3
   },
   "file_extension": ".py",
   "mimetype": "text/x-python",
   "name": "python",
   "nbconvert_exporter": "python",
   "pygments_lexer": "ipython3",
   "version": "3.7.3"
  }
 },
 "nbformat": 4,
 "nbformat_minor": 2
}
